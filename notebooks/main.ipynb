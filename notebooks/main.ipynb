{
 "cells": [
  {
   "attachments": {},
   "cell_type": "markdown",
   "metadata": {},
   "source": [
    "# <center> SPACY ON MUSIC </center>"
   ]
  },
  {
   "attachments": {},
   "cell_type": "markdown",
   "metadata": {},
   "source": [
    "<p> In this project we attempted a series of studies using the SPACY library of PYTHON to perform sentiment analysis, entity analysis, parsing of grammar and keyword extraction on different artists and their original compositions. </p>"
   ]
  },
  {
   "attachments": {},
   "cell_type": "markdown",
   "metadata": {},
   "source": [
    "##### Clean the cells"
   ]
  },
  {
   "cell_type": "code",
   "execution_count": null,
   "metadata": {},
   "outputs": [],
   "source": [
    "\n",
    "%reset -f\n",
    "!pip install -U spacy==3.2.0\n",
    "!python -m spacy download 'pt_core_news_lg'\n",
    "!pip install matplotlib.pyplot"
   ]
  },
  {
   "attachments": {},
   "cell_type": "markdown",
   "metadata": {},
   "source": [
    "# <center> SENTIMENT ANALYSIS </center>\n",
    "\n",
    "<p> In the code below, we parse the datasets contained in the 'singer' directory. These datasets are song lyrics by random singers. We analyzed each composition individually, extracting whether or not the lyrics are romantic, or if they belong to a neutral genre. After an individual analysis of each composition, there is a general analysis of the singer or band. Also saying whether or not he is romantic. </p>"
   ]
  },
  {
   "attachments": {},
   "cell_type": "markdown",
   "metadata": {},
   "source": []
  },
  {
   "cell_type": "code",
   "execution_count": null,
   "metadata": {},
   "outputs": [],
   "source": [
    "# imports\n",
    "import json\n",
    "import os\n",
    "import spacy\n",
    "import matplotlib.pyplot as plt\n",
    "\n",
    "# main variables\n",
    "pathFull = os.getcwd()\n",
    "dirFull = os.path.dirname(pathFull)\n",
    "dirBase = os.path.abspath(os.path.join(dirFull, os.pardir, os.pardir))\n",
    "data = open(f\"{dirBase}/ia/nlp/param/data.json\")\n",
    "var = json.load(data)\n",
    "dataset = f\"{dirBase}/{var['dataset_dir']}\"\n",
    "nlp = spacy.load('pt_core_news_lg')\n",
    "\n",
    "dir_path = [os.path.abspath(os.path.join(dataset, dir_path)) for dir_path in os.listdir(dataset) if os.path.isdir(os.path.join(dataset, dir_path))]\n",
    "total_songs = 0\n",
    "total_positive = 0\n",
    "total_negative = 0\n",
    "\n",
    "# variables for artist-level data\n",
    "artists = []\n",
    "positive_counts = []\n",
    "negative_counts = []\n",
    "\n",
    "# code\n",
    "for file_name in dir_path:\n",
    "    artist_name = os.path.basename(file_name)\n",
    "    artist_positive = 0\n",
    "    artist_negative = 0\n",
    "\n",
    "    for file in os.listdir(file_name):\n",
    "        file_path = os.path.join(file_name, file)\n",
    "        with open(file_path, \"r\", encoding=\"utf-8\") as file:\n",
    "            txt = file.read()\n",
    "            outRows = txt.splitlines()[:2]\n",
    "            titles = outRows[0]\n",
    "            contentRaw = txt.splitlines()[2:]\n",
    "            content = '\\n'.join(contentRaw).lower()\n",
    "\n",
    "        document = nlp(content)\n",
    "\n",
    "        num_positive = 0\n",
    "        num_negative = 0\n",
    "\n",
    "        for token in document:\n",
    "            conj = [\"amor\", \"amar\", \"amarei\", \"amou\", \"amando\"]\n",
    "            if token.pos_ == 'NOUN':\n",
    "                if token.text in conj:\n",
    "                    num_positive += 1\n",
    "                elif token.sentiment <= -0.5:\n",
    "                    num_negative += 1\n",
    "\n",
    "        if num_positive > num_negative:\n",
    "            connotation = 'romantic'\n",
    "        elif num_positive < num_negative:\n",
    "            connotation = 'non-romantic'\n",
    "        else:\n",
    "            connotation = 'neutral'\n",
    "\n",
    "        print(f\"Analyzed Song: '{titles}':\")\n",
    "        print(f\"Connotation: {connotation.upper()}.\")\n",
    "        print(\"------------------------\")\n",
    "\n",
    "        total_songs += 1\n",
    "        total_positive += num_positive\n",
    "        total_negative += num_negative\n",
    "        artist_positive += num_positive\n",
    "        artist_negative += num_negative\n",
    "\n",
    "    artists.append(artist_name)\n",
    "    positive_counts.append(artist_positive)\n",
    "    negative_counts.append(artist_negative)\n",
    "\n",
    "if total_songs > 0:\n",
    "    avg_positive = total_positive / total_songs\n",
    "    avg_negative = total_negative / total_songs\n",
    "\n",
    "    if avg_positive > avg_negative:\n",
    "        connotation = 'romantic'\n",
    "    elif avg_positive < avg_negative:\n",
    "        connotation = 'non-romantic'\n",
    "    else:\n",
    "        connotation = 'neutral'\n",
    "\n",
    "    print(\"General Report:\")\n",
    "    print(f\"Average connotation of songs from {artist_name.upper()}: {connotation.upper()}.\")\n",
    "    print(f\"Total analyzed songs: {total_songs}.\")\n",
    "\n",
    "    fig, (ax1, ax2) = plt.subplots(2, 1, figsize=(8, 10))\n",
    "\n",
    "    ax1.bar(artists, positive_counts, label='Romantic')\n",
    "    ax1.set_ylabel('Count')\n",
    "    ax1.set_title('Romantic Songs by Artist')\n",
    "    ax1.legend()\n",
    "\n",
    "    ax2.bar(artists, negative_counts, label='Non-Romantic')\n",
    "    ax2.set_xlabel('Artists')\n",
    "    ax2.set_ylabel('Count')\n",
    "    ax2.set_title('Non-Romantic Songs by Artist')\n",
    "    ax2.legend()\n",
    "\n",
    "    plt.tight_layout()\n",
    "\n",
    "    plt.show()\n",
    "\n",
    "else:\n",
    "    print(f\"No files found in the {artist_name.upper()} folder.\")\n"
   ]
  },
  {
   "cell_type": "code",
   "execution_count": null,
   "metadata": {},
   "outputs": [],
   "source": []
  }
 ],
 "metadata": {
  "kernelspec": {
   "display_name": "base",
   "language": "python",
   "name": "python3"
  },
  "language_info": {
   "codemirror_mode": {
    "name": "ipython",
    "version": 3
   },
   "file_extension": ".py",
   "mimetype": "text/x-python",
   "name": "python",
   "nbconvert_exporter": "python",
   "pygments_lexer": "ipython3",
   "version": "3.9.7"
  },
  "orig_nbformat": 4
 },
 "nbformat": 4,
 "nbformat_minor": 2
}
